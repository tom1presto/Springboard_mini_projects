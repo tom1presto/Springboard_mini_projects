{
 "cells": [
  {
   "cell_type": "markdown",
   "metadata": {},
   "source": [
    "# Exercises for \"Hands-on with Pydata: How to Build a Minimal Recommendation Engine\""
   ]
  },
  {
   "cell_type": "markdown",
   "metadata": {},
   "source": [
    "# Systems check: imports and files"
   ]
  },
  {
   "cell_type": "code",
   "execution_count": 1,
   "metadata": {
    "collapsed": true
   },
   "outputs": [],
   "source": [
    "import numpy as np\n",
    "import pandas as pd"
   ]
  },
  {
   "cell_type": "markdown",
   "metadata": {},
   "source": [
    "# Pandas questions: Series and DataFrames\n",
    "## 1. Adding a column in a DataFrame"
   ]
  },
  {
   "cell_type": "code",
   "execution_count": 2,
   "metadata": {},
   "outputs": [
    {
     "data": {
      "text/html": [
       "<div>\n",
       "<style>\n",
       "    .dataframe thead tr:only-child th {\n",
       "        text-align: right;\n",
       "    }\n",
       "\n",
       "    .dataframe thead th {\n",
       "        text-align: left;\n",
       "    }\n",
       "\n",
       "    .dataframe tbody tr th {\n",
       "        vertical-align: top;\n",
       "    }\n",
       "</style>\n",
       "<table border=\"1\" class=\"dataframe\">\n",
       "  <thead>\n",
       "    <tr style=\"text-align: right;\">\n",
       "      <th></th>\n",
       "      <th>col1</th>\n",
       "      <th>col2</th>\n",
       "    </tr>\n",
       "  </thead>\n",
       "  <tbody>\n",
       "    <tr>\n",
       "      <th>0</th>\n",
       "      <td>1</td>\n",
       "      <td>5</td>\n",
       "    </tr>\n",
       "    <tr>\n",
       "      <th>1</th>\n",
       "      <td>2</td>\n",
       "      <td>6</td>\n",
       "    </tr>\n",
       "    <tr>\n",
       "      <th>2</th>\n",
       "      <td>3</td>\n",
       "      <td>7</td>\n",
       "    </tr>\n",
       "    <tr>\n",
       "      <th>3</th>\n",
       "      <td>4</td>\n",
       "      <td>8</td>\n",
       "    </tr>\n",
       "  </tbody>\n",
       "</table>\n",
       "</div>"
      ],
      "text/plain": [
       "   col1  col2\n",
       "0     1     5\n",
       "1     2     6\n",
       "2     3     7\n",
       "3     4     8"
      ]
     },
     "execution_count": 2,
     "metadata": {},
     "output_type": "execute_result"
    }
   ],
   "source": [
    "# given the following DataFrame, add a new column to it\n",
    "df = pd.DataFrame({'col1': [1,2,3,4]})\n",
    "\n",
    "# my addition:\n",
    "df['col2'] = range(5,9)\n",
    "\n",
    "df"
   ]
  },
  {
   "cell_type": "markdown",
   "metadata": {},
   "source": [
    "## 2. Deleting a row in a DataFrame"
   ]
  },
  {
   "cell_type": "code",
   "execution_count": 3,
   "metadata": {},
   "outputs": [
    {
     "data": {
      "text/html": [
       "<div>\n",
       "<style>\n",
       "    .dataframe thead tr:only-child th {\n",
       "        text-align: right;\n",
       "    }\n",
       "\n",
       "    .dataframe thead th {\n",
       "        text-align: left;\n",
       "    }\n",
       "\n",
       "    .dataframe tbody tr th {\n",
       "        vertical-align: top;\n",
       "    }\n",
       "</style>\n",
       "<table border=\"1\" class=\"dataframe\">\n",
       "  <thead>\n",
       "    <tr style=\"text-align: right;\">\n",
       "      <th></th>\n",
       "      <th>col1</th>\n",
       "    </tr>\n",
       "  </thead>\n",
       "  <tbody>\n",
       "    <tr>\n",
       "      <th>a</th>\n",
       "      <td>1</td>\n",
       "    </tr>\n",
       "    <tr>\n",
       "      <th>b</th>\n",
       "      <td>2</td>\n",
       "    </tr>\n",
       "    <tr>\n",
       "      <th>c</th>\n",
       "      <td>3</td>\n",
       "    </tr>\n",
       "  </tbody>\n",
       "</table>\n",
       "</div>"
      ],
      "text/plain": [
       "   col1\n",
       "a     1\n",
       "b     2\n",
       "c     3"
      ]
     },
     "execution_count": 3,
     "metadata": {},
     "output_type": "execute_result"
    }
   ],
   "source": [
    "# given the following DataFrame, delete row 'd' from it\n",
    "df = pd.DataFrame({'col1': [1,2,3,4]}, index = ['a','b','c','d'])\n",
    "\n",
    "# my addition:\n",
    "df.drop('d', axis = 0, inplace = True )\n",
    "\n",
    "df"
   ]
  },
  {
   "cell_type": "markdown",
   "metadata": {},
   "source": [
    "## 3. Creating a DataFrame from a few Series"
   ]
  },
  {
   "cell_type": "code",
   "execution_count": 4,
   "metadata": {},
   "outputs": [
    {
     "data": {
      "text/html": [
       "<div>\n",
       "<style>\n",
       "    .dataframe thead tr:only-child th {\n",
       "        text-align: right;\n",
       "    }\n",
       "\n",
       "    .dataframe thead th {\n",
       "        text-align: left;\n",
       "    }\n",
       "\n",
       "    .dataframe tbody tr th {\n",
       "        vertical-align: top;\n",
       "    }\n",
       "</style>\n",
       "<table border=\"1\" class=\"dataframe\">\n",
       "  <thead>\n",
       "    <tr style=\"text-align: right;\">\n",
       "      <th></th>\n",
       "      <th>col1</th>\n",
       "      <th>col2</th>\n",
       "      <th>col3</th>\n",
       "    </tr>\n",
       "  </thead>\n",
       "  <tbody>\n",
       "    <tr>\n",
       "      <th>0</th>\n",
       "      <td>0.303783</td>\n",
       "      <td>-0.408232</td>\n",
       "      <td>0.563959</td>\n",
       "    </tr>\n",
       "    <tr>\n",
       "      <th>1</th>\n",
       "      <td>0.496282</td>\n",
       "      <td>0.340504</td>\n",
       "      <td>-1.735576</td>\n",
       "    </tr>\n",
       "    <tr>\n",
       "      <th>2</th>\n",
       "      <td>1.662035</td>\n",
       "      <td>0.234688</td>\n",
       "      <td>-0.076108</td>\n",
       "    </tr>\n",
       "    <tr>\n",
       "      <th>3</th>\n",
       "      <td>1.813168</td>\n",
       "      <td>-0.132730</td>\n",
       "      <td>-1.258663</td>\n",
       "    </tr>\n",
       "    <tr>\n",
       "      <th>4</th>\n",
       "      <td>0.371668</td>\n",
       "      <td>1.146204</td>\n",
       "      <td>-0.625404</td>\n",
       "    </tr>\n",
       "    <tr>\n",
       "      <th>5</th>\n",
       "      <td>-0.448433</td>\n",
       "      <td>0.658471</td>\n",
       "      <td>2.281013</td>\n",
       "    </tr>\n",
       "  </tbody>\n",
       "</table>\n",
       "</div>"
      ],
      "text/plain": [
       "       col1      col2      col3\n",
       "0  0.303783 -0.408232  0.563959\n",
       "1  0.496282  0.340504 -1.735576\n",
       "2  1.662035  0.234688 -0.076108\n",
       "3  1.813168 -0.132730 -1.258663\n",
       "4  0.371668  1.146204 -0.625404\n",
       "5 -0.448433  0.658471  2.281013"
      ]
     },
     "execution_count": 4,
     "metadata": {},
     "output_type": "execute_result"
    }
   ],
   "source": [
    "# given the following three Series, create a DataFrame such that it holds them as its columns\n",
    "ser_1 = pd.Series(np.random.randn(6))\n",
    "ser_2 = pd.Series(np.random.randn(6))\n",
    "ser_3 = pd.Series(np.random.randn(6))\n",
    "\n",
    "# my addition:\n",
    "df = pd.DataFrame({'col1': ser_1, 'col2':ser_2, 'col3': ser_3})\n",
    "df"
   ]
  },
  {
   "cell_type": "markdown",
   "metadata": {},
   "source": [
    "# Pandas questions: Indexing"
   ]
  },
  {
   "cell_type": "markdown",
   "metadata": {},
   "source": [
    "## 1. Indexing into a specific column"
   ]
  },
  {
   "cell_type": "code",
   "execution_count": 5,
   "metadata": {},
   "outputs": [
    {
     "data": {
      "text/html": [
       "<div>\n",
       "<style>\n",
       "    .dataframe thead tr:only-child th {\n",
       "        text-align: right;\n",
       "    }\n",
       "\n",
       "    .dataframe thead th {\n",
       "        text-align: left;\n",
       "    }\n",
       "\n",
       "    .dataframe tbody tr th {\n",
       "        vertical-align: top;\n",
       "    }\n",
       "</style>\n",
       "<table border=\"1\" class=\"dataframe\">\n",
       "  <thead>\n",
       "    <tr style=\"text-align: right;\">\n",
       "      <th></th>\n",
       "      <th>col_2</th>\n",
       "    </tr>\n",
       "  </thead>\n",
       "  <tbody>\n",
       "    <tr>\n",
       "      <th>obs1</th>\n",
       "      <td>0.9</td>\n",
       "    </tr>\n",
       "    <tr>\n",
       "      <th>obs2</th>\n",
       "      <td>9.0</td>\n",
       "    </tr>\n",
       "    <tr>\n",
       "      <th>obs3</th>\n",
       "      <td>34.0</td>\n",
       "    </tr>\n",
       "    <tr>\n",
       "      <th>obs4</th>\n",
       "      <td>11.0</td>\n",
       "    </tr>\n",
       "  </tbody>\n",
       "</table>\n",
       "</div>"
      ],
      "text/plain": [
       "      col_2\n",
       "obs1    0.9\n",
       "obs2    9.0\n",
       "obs3   34.0\n",
       "obs4   11.0"
      ]
     },
     "execution_count": 5,
     "metadata": {},
     "output_type": "execute_result"
    }
   ],
   "source": [
    "# given the following DataFrame, try to index into the 'col_2' column\n",
    "df = pd.DataFrame(data={'col_1': [0.12, 7, 45, 10], 'col_2': [0.9, 9, 34, 11]},\n",
    "                  columns=['col_1', 'col_2', 'col_3'],\n",
    "                  index=['obs1', 'obs2', 'obs3', 'obs4'])\n",
    "\n",
    "# my addition:\n",
    "df[['col_2']]"
   ]
  },
  {
   "cell_type": "markdown",
   "metadata": {},
   "source": [
    "## 2. Label-based indexing"
   ]
  },
  {
   "cell_type": "code",
   "execution_count": 6,
   "metadata": {},
   "outputs": [
    {
     "data": {
      "text/plain": [
       "col_1     45\n",
       "col_2     34\n",
       "col_3    NaN\n",
       "Name: obs3, dtype: object"
      ]
     },
     "execution_count": 6,
     "metadata": {},
     "output_type": "execute_result"
    }
   ],
   "source": [
    "# using the same DataFrame, index into the row whose index is 'obs3'\n",
    "df.loc['obs3']"
   ]
  },
  {
   "cell_type": "markdown",
   "metadata": {},
   "source": [
    "## 2. Position-based indexing"
   ]
  },
  {
   "cell_type": "code",
   "execution_count": 7,
   "metadata": {},
   "outputs": [
    {
     "data": {
      "text/plain": [
       "col_1    0.12\n",
       "col_2     0.9\n",
       "col_3     NaN\n",
       "Name: obs1, dtype: object"
      ]
     },
     "execution_count": 7,
     "metadata": {},
     "output_type": "execute_result"
    }
   ],
   "source": [
    "# using the same DataFrame, index into into its first row\n",
    "df.iloc[0,:]"
   ]
  },
  {
   "cell_type": "markdown",
   "metadata": {},
   "source": [
    "# Mini-Challenge prep: data loading\n",
    "\n",
    "## 1. How to load the `users` and `movies` portions of MovieLens"
   ]
  },
  {
   "cell_type": "code",
   "execution_count": 8,
   "metadata": {},
   "outputs": [
    {
     "data": {
      "text/html": [
       "<div>\n",
       "<style>\n",
       "    .dataframe thead tr:only-child th {\n",
       "        text-align: right;\n",
       "    }\n",
       "\n",
       "    .dataframe thead th {\n",
       "        text-align: left;\n",
       "    }\n",
       "\n",
       "    .dataframe tbody tr th {\n",
       "        vertical-align: top;\n",
       "    }\n",
       "</style>\n",
       "<table border=\"1\" class=\"dataframe\">\n",
       "  <thead>\n",
       "    <tr style=\"text-align: right;\">\n",
       "      <th></th>\n",
       "      <th>user_id</th>\n",
       "      <th>gender</th>\n",
       "      <th>age</th>\n",
       "      <th>occupation</th>\n",
       "      <th>zip</th>\n",
       "    </tr>\n",
       "    <tr>\n",
       "      <th>user_id</th>\n",
       "      <th></th>\n",
       "      <th></th>\n",
       "      <th></th>\n",
       "      <th></th>\n",
       "      <th></th>\n",
       "    </tr>\n",
       "  </thead>\n",
       "  <tbody>\n",
       "    <tr>\n",
       "      <th>1</th>\n",
       "      <td>1</td>\n",
       "      <td>F</td>\n",
       "      <td>1</td>\n",
       "      <td>10</td>\n",
       "      <td>48067</td>\n",
       "    </tr>\n",
       "    <tr>\n",
       "      <th>2</th>\n",
       "      <td>2</td>\n",
       "      <td>M</td>\n",
       "      <td>56</td>\n",
       "      <td>16</td>\n",
       "      <td>70072</td>\n",
       "    </tr>\n",
       "    <tr>\n",
       "      <th>3</th>\n",
       "      <td>3</td>\n",
       "      <td>M</td>\n",
       "      <td>25</td>\n",
       "      <td>15</td>\n",
       "      <td>55117</td>\n",
       "    </tr>\n",
       "    <tr>\n",
       "      <th>4</th>\n",
       "      <td>4</td>\n",
       "      <td>M</td>\n",
       "      <td>45</td>\n",
       "      <td>7</td>\n",
       "      <td>02460</td>\n",
       "    </tr>\n",
       "    <tr>\n",
       "      <th>5</th>\n",
       "      <td>5</td>\n",
       "      <td>M</td>\n",
       "      <td>25</td>\n",
       "      <td>20</td>\n",
       "      <td>55455</td>\n",
       "    </tr>\n",
       "  </tbody>\n",
       "</table>\n",
       "</div>"
      ],
      "text/plain": [
       "         user_id gender  age  occupation    zip\n",
       "user_id                                        \n",
       "1              1      F    1          10  48067\n",
       "2              2      M   56          16  70072\n",
       "3              3      M   25          15  55117\n",
       "4              4      M   45           7  02460\n",
       "5              5      M   25          20  55455"
      ]
     },
     "execution_count": 8,
     "metadata": {},
     "output_type": "execute_result"
    }
   ],
   "source": [
    "# import pandas as pd\n",
    "\n",
    "users = pd.read_table('data/ml-1m/users.dat',\n",
    "                      sep='::', header=None,\n",
    "                      names=['user_id', 'gender', 'age', 'occupation', 'zip'],\n",
    "                      engine = 'python')\n",
    "\n",
    "movies = pd.read_table('data/ml-1m/movies.dat',\n",
    "                       sep='::', header=None,\n",
    "                       names=['movie_id', 'title', 'genres'],\n",
    "                       engine = 'python')\n",
    "                       \n",
    "# later in this analysis, index-based references are used, but the data don't have indices that \n",
    "#   match the user and movie id's. This breaks the references\n",
    "# the most effective way to fix this is to fix the indices\n",
    "users.index = users.user_id\n",
    "movies.index = movies.movie_id\n",
    "\n",
    "users.head()"
   ]
  },
  {
   "cell_type": "code",
   "execution_count": 9,
   "metadata": {},
   "outputs": [
    {
     "data": {
      "text/html": [
       "<div>\n",
       "<style>\n",
       "    .dataframe thead tr:only-child th {\n",
       "        text-align: right;\n",
       "    }\n",
       "\n",
       "    .dataframe thead th {\n",
       "        text-align: left;\n",
       "    }\n",
       "\n",
       "    .dataframe tbody tr th {\n",
       "        vertical-align: top;\n",
       "    }\n",
       "</style>\n",
       "<table border=\"1\" class=\"dataframe\">\n",
       "  <thead>\n",
       "    <tr style=\"text-align: right;\">\n",
       "      <th></th>\n",
       "      <th>movie_id</th>\n",
       "      <th>title</th>\n",
       "      <th>genres</th>\n",
       "    </tr>\n",
       "    <tr>\n",
       "      <th>movie_id</th>\n",
       "      <th></th>\n",
       "      <th></th>\n",
       "      <th></th>\n",
       "    </tr>\n",
       "  </thead>\n",
       "  <tbody>\n",
       "    <tr>\n",
       "      <th>1</th>\n",
       "      <td>1</td>\n",
       "      <td>Toy Story (1995)</td>\n",
       "      <td>Animation|Children's|Comedy</td>\n",
       "    </tr>\n",
       "    <tr>\n",
       "      <th>2</th>\n",
       "      <td>2</td>\n",
       "      <td>Jumanji (1995)</td>\n",
       "      <td>Adventure|Children's|Fantasy</td>\n",
       "    </tr>\n",
       "    <tr>\n",
       "      <th>3</th>\n",
       "      <td>3</td>\n",
       "      <td>Grumpier Old Men (1995)</td>\n",
       "      <td>Comedy|Romance</td>\n",
       "    </tr>\n",
       "    <tr>\n",
       "      <th>4</th>\n",
       "      <td>4</td>\n",
       "      <td>Waiting to Exhale (1995)</td>\n",
       "      <td>Comedy|Drama</td>\n",
       "    </tr>\n",
       "    <tr>\n",
       "      <th>5</th>\n",
       "      <td>5</td>\n",
       "      <td>Father of the Bride Part II (1995)</td>\n",
       "      <td>Comedy</td>\n",
       "    </tr>\n",
       "  </tbody>\n",
       "</table>\n",
       "</div>"
      ],
      "text/plain": [
       "          movie_id                               title  \\\n",
       "movie_id                                                 \n",
       "1                1                    Toy Story (1995)   \n",
       "2                2                      Jumanji (1995)   \n",
       "3                3             Grumpier Old Men (1995)   \n",
       "4                4            Waiting to Exhale (1995)   \n",
       "5                5  Father of the Bride Part II (1995)   \n",
       "\n",
       "                                genres  \n",
       "movie_id                                \n",
       "1          Animation|Children's|Comedy  \n",
       "2         Adventure|Children's|Fantasy  \n",
       "3                       Comedy|Romance  \n",
       "4                         Comedy|Drama  \n",
       "5                               Comedy  "
      ]
     },
     "execution_count": 9,
     "metadata": {},
     "output_type": "execute_result"
    }
   ],
   "source": [
    "movies.head()"
   ]
  },
  {
   "cell_type": "markdown",
   "metadata": {},
   "source": [
    "## 2. How to load the training and testing subsets"
   ]
  },
  {
   "cell_type": "code",
   "execution_count": 10,
   "metadata": {
    "collapsed": true
   },
   "outputs": [],
   "source": [
    "# subset version (hosted notebook)\n",
    "movielens_train = pd.read_csv('data/movielens_train.csv', index_col=0, encoding = 'latin-1')\n",
    "movielens_test = pd.read_csv('data/movielens_test.csv', index_col=0, encoding = 'latin-1')"
   ]
  },
  {
   "cell_type": "code",
   "execution_count": 11,
   "metadata": {},
   "outputs": [
    {
     "name": "stdout",
     "output_type": "stream",
     "text": [
      "(5838, 11)\n"
     ]
    },
    {
     "data": {
      "text/html": [
       "<div>\n",
       "<style>\n",
       "    .dataframe thead tr:only-child th {\n",
       "        text-align: right;\n",
       "    }\n",
       "\n",
       "    .dataframe thead th {\n",
       "        text-align: left;\n",
       "    }\n",
       "\n",
       "    .dataframe tbody tr th {\n",
       "        vertical-align: top;\n",
       "    }\n",
       "</style>\n",
       "<table border=\"1\" class=\"dataframe\">\n",
       "  <thead>\n",
       "    <tr style=\"text-align: right;\">\n",
       "      <th></th>\n",
       "      <th>user_id</th>\n",
       "      <th>movie_id</th>\n",
       "      <th>rating</th>\n",
       "      <th>timestamp</th>\n",
       "      <th>gender</th>\n",
       "      <th>age</th>\n",
       "      <th>occupation</th>\n",
       "      <th>zip</th>\n",
       "      <th>title</th>\n",
       "      <th>genres</th>\n",
       "      <th>for_testing</th>\n",
       "    </tr>\n",
       "  </thead>\n",
       "  <tbody>\n",
       "    <tr>\n",
       "      <th>593263</th>\n",
       "      <td>3562</td>\n",
       "      <td>3798</td>\n",
       "      <td>4</td>\n",
       "      <td>967332344</td>\n",
       "      <td>F</td>\n",
       "      <td>25</td>\n",
       "      <td>6</td>\n",
       "      <td>32812</td>\n",
       "      <td>What Lies Beneath (2000)</td>\n",
       "      <td>Thriller</td>\n",
       "      <td>False</td>\n",
       "    </tr>\n",
       "    <tr>\n",
       "      <th>235597</th>\n",
       "      <td>1051</td>\n",
       "      <td>3793</td>\n",
       "      <td>4</td>\n",
       "      <td>974958593</td>\n",
       "      <td>F</td>\n",
       "      <td>25</td>\n",
       "      <td>0</td>\n",
       "      <td>60513</td>\n",
       "      <td>X-Men (2000)</td>\n",
       "      <td>Action|Sci-Fi</td>\n",
       "      <td>False</td>\n",
       "    </tr>\n",
       "    <tr>\n",
       "      <th>219003</th>\n",
       "      <td>3727</td>\n",
       "      <td>2366</td>\n",
       "      <td>3</td>\n",
       "      <td>966309522</td>\n",
       "      <td>M</td>\n",
       "      <td>35</td>\n",
       "      <td>7</td>\n",
       "      <td>74401</td>\n",
       "      <td>King Kong (1933)</td>\n",
       "      <td>Action|Adventure|Horror</td>\n",
       "      <td>False</td>\n",
       "    </tr>\n",
       "    <tr>\n",
       "      <th>685090</th>\n",
       "      <td>4666</td>\n",
       "      <td>1094</td>\n",
       "      <td>3</td>\n",
       "      <td>963843918</td>\n",
       "      <td>M</td>\n",
       "      <td>35</td>\n",
       "      <td>1</td>\n",
       "      <td>53704</td>\n",
       "      <td>Crying Game, The (1992)</td>\n",
       "      <td>Drama|Romance|War</td>\n",
       "      <td>False</td>\n",
       "    </tr>\n",
       "    <tr>\n",
       "      <th>312377</th>\n",
       "      <td>3261</td>\n",
       "      <td>1095</td>\n",
       "      <td>4</td>\n",
       "      <td>968251750</td>\n",
       "      <td>M</td>\n",
       "      <td>45</td>\n",
       "      <td>20</td>\n",
       "      <td>87505</td>\n",
       "      <td>Glengarry Glen Ross (1992)</td>\n",
       "      <td>Drama</td>\n",
       "      <td>False</td>\n",
       "    </tr>\n",
       "  </tbody>\n",
       "</table>\n",
       "</div>"
      ],
      "text/plain": [
       "        user_id  movie_id  rating  timestamp gender  age  occupation    zip  \\\n",
       "593263     3562      3798       4  967332344      F   25           6  32812   \n",
       "235597     1051      3793       4  974958593      F   25           0  60513   \n",
       "219003     3727      2366       3  966309522      M   35           7  74401   \n",
       "685090     4666      1094       3  963843918      M   35           1  53704   \n",
       "312377     3261      1095       4  968251750      M   45          20  87505   \n",
       "\n",
       "                             title                   genres  for_testing  \n",
       "593263    What Lies Beneath (2000)                 Thriller        False  \n",
       "235597                X-Men (2000)            Action|Sci-Fi        False  \n",
       "219003            King Kong (1933)  Action|Adventure|Horror        False  \n",
       "685090     Crying Game, The (1992)        Drama|Romance|War        False  \n",
       "312377  Glengarry Glen Ross (1992)                    Drama        False  "
      ]
     },
     "execution_count": 11,
     "metadata": {},
     "output_type": "execute_result"
    }
   ],
   "source": [
    "print(movielens_train.shape)\n",
    "movielens_train.head()"
   ]
  },
  {
   "cell_type": "code",
   "execution_count": 12,
   "metadata": {},
   "outputs": [
    {
     "name": "stdout",
     "output_type": "stream",
     "text": [
      "(2668, 11)\n"
     ]
    },
    {
     "data": {
      "text/html": [
       "<div>\n",
       "<style>\n",
       "    .dataframe thead tr:only-child th {\n",
       "        text-align: right;\n",
       "    }\n",
       "\n",
       "    .dataframe thead th {\n",
       "        text-align: left;\n",
       "    }\n",
       "\n",
       "    .dataframe tbody tr th {\n",
       "        vertical-align: top;\n",
       "    }\n",
       "</style>\n",
       "<table border=\"1\" class=\"dataframe\">\n",
       "  <thead>\n",
       "    <tr style=\"text-align: right;\">\n",
       "      <th></th>\n",
       "      <th>user_id</th>\n",
       "      <th>movie_id</th>\n",
       "      <th>rating</th>\n",
       "      <th>timestamp</th>\n",
       "      <th>gender</th>\n",
       "      <th>age</th>\n",
       "      <th>occupation</th>\n",
       "      <th>zip</th>\n",
       "      <th>title</th>\n",
       "      <th>genres</th>\n",
       "      <th>for_testing</th>\n",
       "    </tr>\n",
       "  </thead>\n",
       "  <tbody>\n",
       "    <tr>\n",
       "      <th>693323</th>\n",
       "      <td>4653</td>\n",
       "      <td>2648</td>\n",
       "      <td>4</td>\n",
       "      <td>975532459</td>\n",
       "      <td>M</td>\n",
       "      <td>35</td>\n",
       "      <td>12</td>\n",
       "      <td>95051</td>\n",
       "      <td>Frankenstein (1931)</td>\n",
       "      <td>Horror</td>\n",
       "      <td>False</td>\n",
       "    </tr>\n",
       "    <tr>\n",
       "      <th>24177</th>\n",
       "      <td>2259</td>\n",
       "      <td>1270</td>\n",
       "      <td>4</td>\n",
       "      <td>974591524</td>\n",
       "      <td>F</td>\n",
       "      <td>56</td>\n",
       "      <td>16</td>\n",
       "      <td>70503</td>\n",
       "      <td>Back to the Future (1985)</td>\n",
       "      <td>Comedy|Sci-Fi</td>\n",
       "      <td>False</td>\n",
       "    </tr>\n",
       "    <tr>\n",
       "      <th>202202</th>\n",
       "      <td>3032</td>\n",
       "      <td>1378</td>\n",
       "      <td>5</td>\n",
       "      <td>970343147</td>\n",
       "      <td>M</td>\n",
       "      <td>25</td>\n",
       "      <td>0</td>\n",
       "      <td>47303</td>\n",
       "      <td>Young Guns (1988)</td>\n",
       "      <td>Action|Comedy|Western</td>\n",
       "      <td>False</td>\n",
       "    </tr>\n",
       "    <tr>\n",
       "      <th>262003</th>\n",
       "      <td>3029</td>\n",
       "      <td>2289</td>\n",
       "      <td>4</td>\n",
       "      <td>972846393</td>\n",
       "      <td>M</td>\n",
       "      <td>18</td>\n",
       "      <td>4</td>\n",
       "      <td>92037</td>\n",
       "      <td>Player, The (1992)</td>\n",
       "      <td>Comedy|Drama</td>\n",
       "      <td>False</td>\n",
       "    </tr>\n",
       "    <tr>\n",
       "      <th>777848</th>\n",
       "      <td>4186</td>\n",
       "      <td>2403</td>\n",
       "      <td>3</td>\n",
       "      <td>1017931262</td>\n",
       "      <td>M</td>\n",
       "      <td>25</td>\n",
       "      <td>7</td>\n",
       "      <td>33308</td>\n",
       "      <td>First Blood (1982)</td>\n",
       "      <td>Action</td>\n",
       "      <td>False</td>\n",
       "    </tr>\n",
       "  </tbody>\n",
       "</table>\n",
       "</div>"
      ],
      "text/plain": [
       "        user_id  movie_id  rating   timestamp gender  age  occupation    zip  \\\n",
       "693323     4653      2648       4   975532459      M   35          12  95051   \n",
       "24177      2259      1270       4   974591524      F   56          16  70503   \n",
       "202202     3032      1378       5   970343147      M   25           0  47303   \n",
       "262003     3029      2289       4   972846393      M   18           4  92037   \n",
       "777848     4186      2403       3  1017931262      M   25           7  33308   \n",
       "\n",
       "                            title                 genres  for_testing  \n",
       "693323        Frankenstein (1931)                 Horror        False  \n",
       "24177   Back to the Future (1985)          Comedy|Sci-Fi        False  \n",
       "202202          Young Guns (1988)  Action|Comedy|Western        False  \n",
       "262003         Player, The (1992)           Comedy|Drama        False  \n",
       "777848         First Blood (1982)                 Action        False  "
      ]
     },
     "execution_count": 12,
     "metadata": {},
     "output_type": "execute_result"
    }
   ],
   "source": [
    "print(movielens_test.shape)\n",
    "movielens_test.head()"
   ]
  },
  {
   "cell_type": "markdown",
   "metadata": {},
   "source": [
    "# Mini-Challenge prep: evaluation functions\n",
    "\n",
    "These are the two functions that you will need to test your `estimate` method."
   ]
  },
  {
   "cell_type": "code",
   "execution_count": 13,
   "metadata": {
    "collapsed": true
   },
   "outputs": [],
   "source": [
    "def compute_rmse(y_pred, y_true):\n",
    "    \"\"\" Compute Root Mean Squared Error. \"\"\"\n",
    "    \n",
    "    return(np.sqrt(np.mean(np.power(y_pred - y_true, 2))))"
   ]
  },
  {
   "cell_type": "code",
   "execution_count": 14,
   "metadata": {
    "collapsed": true
   },
   "outputs": [],
   "source": [
    "def evaluate(estimate_f):\n",
    "    \"\"\" RMSE-based predictive performance evaluation with pandas. \"\"\"\n",
    "    \n",
    "    ids_to_estimate = zip(movielens_test.user_id, movielens_test.movie_id)\n",
    "    estimated = np.array([estimate_f(u,i) for (u,i) in ids_to_estimate])\n",
    "    real = movielens_test.rating.values\n",
    "    return(compute_rmse(estimated, real))"
   ]
  },
  {
   "cell_type": "markdown",
   "metadata": {},
   "source": [
    "Test a dummy solution!"
   ]
  },
  {
   "cell_type": "code",
   "execution_count": 15,
   "metadata": {
    "collapsed": true
   },
   "outputs": [],
   "source": [
    "def my_estimate_func(user_id, movie_id):\n",
    "    return(3.5)"
   ]
  },
  {
   "cell_type": "markdown",
   "metadata": {},
   "source": [
    "You can test for performance with the following line, which assumes that your function is called `my_estimate_func`:"
   ]
  },
  {
   "cell_type": "code",
   "execution_count": 16,
   "metadata": {},
   "outputs": [
    {
     "name": "stdout",
     "output_type": "stream",
     "text": [
      "RMSE for my estimate function: 1.09088495498\n"
     ]
    }
   ],
   "source": [
    "print('RMSE for my estimate function: %s' % evaluate(my_estimate_func))"
   ]
  },
  {
   "cell_type": "markdown",
   "metadata": {},
   "source": [
    "# Reco systems questions: Minimal reco engine v1.0"
   ]
  },
  {
   "cell_type": "markdown",
   "metadata": {},
   "source": [
    "## 1. Simple collaborative filtering using mean ratings"
   ]
  },
  {
   "cell_type": "code",
   "execution_count": 17,
   "metadata": {},
   "outputs": [
    {
     "name": "stdout",
     "output_type": "stream",
     "text": [
      "4.0\n",
      "RMSE for a simple collaborative filter is: 1.1234279896\n"
     ]
    }
   ],
   "source": [
    "# write an 'estimate' function that computes the mean rating of a particular user\n",
    "def collab_mean(user_id, movie_id):\n",
    "    \n",
    "    # first, index into all ratings of this movie\n",
    "    movie_condition = movielens_train.movie_id == movie_id\n",
    "    user_condition = movielens_train.user_id != user_id\n",
    "    \n",
    "    # second, compute the mean of those ratings\n",
    "    ratings = movielens_train.rating[movie_condition & user_condition]\n",
    "    \n",
    "    if ( ratings.empty ):\n",
    "        return( 3.0 )\n",
    "    else:\n",
    "        return( ratings.mean() )\n",
    "\n",
    "    \n",
    "# try it out for a user_id, movie_id pair\n",
    "print(collab_mean(4653, 2648))\n",
    "print('RMSE for a simple collaborative filter is: %s' % evaluate(collab_mean))"
   ]
  },
  {
   "cell_type": "markdown",
   "metadata": {},
   "source": [
    "# Mini-Challenge: first round\n",
    "Implement an `estimate` function of your own using other similarity notions, eg.:\n",
    "\n",
    "- collaborative filter based on age similarities\n",
    "- collaborative filter based on zip code similarities\n",
    "- collaborative filter based on occupation similarities\n",
    "- content filter based on movie genre\n",
    "\n",
    "## Age Similarity"
   ]
  },
  {
   "cell_type": "code",
   "execution_count": 18,
   "metadata": {},
   "outputs": [
    {
     "name": "stdout",
     "output_type": "stream",
     "text": [
      "RMSE for CollabAgeReco: 1.20520133441.\n"
     ]
    }
   ],
   "source": [
    "# attempting to develop the class estimator as shown in the video example\n",
    "# the functions have proven slow and I'd like to see the computational performance improvement\n",
    "\n",
    "class CollabAgeReco:\n",
    "    # Collaborative filtering using an implicit sim(u,u'), based on age\n",
    "    # and maybe age ranges...\n",
    "    \n",
    "    def learn( self ):\n",
    "        # prepare data structures\n",
    "        self.means_by_age = movielens_train.pivot_table('rating', index = 'movie_id', columns = 'age')\n",
    "                \n",
    "    def estimate( self, user_id, movie_id ):\n",
    "        # Mean ratings by other users of the same age\n",
    "        if( movie_id not in self.means_by_age.index ):\n",
    "            return( 3.0 )\n",
    "        \n",
    "        user_age = users.loc[user_id, 'age']\n",
    "        if( ~np.isnan(self.means_by_age.loc[movie_id, user_age]) ):\n",
    "            return( self.means_by_age.loc[movie_id, user_age] )\n",
    "        else:\n",
    "            return( self.means_by_age.loc[movie_id].mean())\n",
    "\n",
    "reco = CollabAgeReco()\n",
    "reco.learn()\n",
    "print('RMSE for CollabAgeReco: %s.' % evaluate(reco.estimate))"
   ]
  },
  {
   "cell_type": "markdown",
   "metadata": {},
   "source": [
    "The computational performance in vastly improved; this took far less time to compute a RMSE.\n",
    "\n",
    "But the estimation performance got noticably worse, so I'd like to see about using age ranges. First, I'd like to look at the distribution and frequencies of different ages to see if this would be of any use."
   ]
  },
  {
   "cell_type": "code",
   "execution_count": 19,
   "metadata": {},
   "outputs": [
    {
     "name": "stdout",
     "output_type": "stream",
     "text": [
      "There are 7 discrete age values in the dataset.\n"
     ]
    },
    {
     "data": {
      "text/plain": [
       "25    2441\n",
       "35    1144\n",
       "18    1037\n",
       "45     476\n",
       "50     409\n",
       "56     177\n",
       "1      154\n",
       "Name: age, dtype: int64"
      ]
     },
     "execution_count": 19,
     "metadata": {},
     "output_type": "execute_result"
    }
   ],
   "source": [
    "print(\"There are %s discrete age values in the dataset.\" % str(len(movielens_train.age.value_counts())))\n",
    "movielens_train.age.value_counts()"
   ]
  },
  {
   "cell_type": "markdown",
   "metadata": {},
   "source": [
    "Based on these results, the data is clearly already grouped into age ranges, and so I'm abandoning further development in this direction and just proceding with the remaining 3 methods of building the recommendation system under round 1 of the challenge.\n",
    "\n",
    "## Zip Code Similarity"
   ]
  },
  {
   "cell_type": "code",
   "execution_count": 20,
   "metadata": {},
   "outputs": [
    {
     "name": "stdout",
     "output_type": "stream",
     "text": [
      "RMSE for CollabZipReco: 1.12566403192.\n"
     ]
    }
   ],
   "source": [
    "class CollabZipReco:\n",
    "    # Collaborative filtering using an implicit sim(u,u'), based on zip code\n",
    "    \n",
    "    def learn( self ):\n",
    "        # prepare data structures\n",
    "        self.means_by_zip = movielens_train.pivot_table('rating', index = 'movie_id', columns = 'zip')\n",
    "        \n",
    "    def estimate( self, user_id, movie_id ):\n",
    "        # Mean ratings by other users of the same zip code\n",
    "        if( movie_id not in self.means_by_zip.index ):\n",
    "            return( 3.0 )\n",
    "        \n",
    "        # get the users zip\n",
    "        user_zip = users.loc[user_id, 'zip']\n",
    "        \n",
    "        # many test users have zip codes that are not in the training data\n",
    "        # we have to then filter those out and return a dummy value, just as for those\n",
    "        #   where the movie isn't in the training data\n",
    "        if( user_zip not in self.means_by_zip.columns ):\n",
    "            return( 3.0 )\n",
    "        \n",
    "        if( ~np.isnan(self.means_by_zip.loc[movie_id, user_zip]) ):\n",
    "            return( self.means_by_zip.loc[movie_id, user_zip] )\n",
    "        else:\n",
    "            return( self.means_by_zip.loc[movie_id].mean())\n",
    "\n",
    "reco = CollabZipReco()\n",
    "reco.learn()\n",
    "print('RMSE for CollabZipReco: %s.' % evaluate(reco.estimate))"
   ]
  },
  {
   "cell_type": "markdown",
   "metadata": {},
   "source": [
    "Time time, we have some slight improvement over similarity by age, but not over the unfiltered means.\n",
    "\n",
    "## Occupation Similarities\n",
    "\n",
    "I would like to note that this method could standardized so that it can accept any one variable as the basis for collaborative similarity. This would be done by including an additional input parameter in the class that included the name of this input parameter. Then, when the `.learn()` method is called, the parameter would specified.\n",
    "\n",
    "Additionally, I think the performance benefits of formatting this analysis could be maintained while using the simpler function setup simply by separating out the construction of the group means matrix from the estimation, as is done in the class-based approach. That is, the performance benefit is likely not derived from the fact that a class is used that this group mean matrix is only constructed once, rather than during each iteration of the estimate function. This could be done by running two functions, similiar to the two methods in the class function, and done in a simpler code structure that doesn't define a class. It would, however, require a change in that the group means matrix would need to be passed to the estimate function, which is somewhat different than the current project parameters, which insists that the estimate function only take a user id and a movie id.\n",
    "\n",
    "With these points noted, I am proceeding following the existing coding structure."
   ]
  },
  {
   "cell_type": "code",
   "execution_count": 21,
   "metadata": {},
   "outputs": [
    {
     "name": "stdout",
     "output_type": "stream",
     "text": [
      "RMSE for CollabJobReco: 1.20287696436.\n"
     ]
    }
   ],
   "source": [
    "class CollabJobReco:\n",
    "    # Collaborative filtering using an implicit sim(u,u'), based on zip code\n",
    "    \n",
    "    def learn( self ):\n",
    "        # prepare data structures\n",
    "        self.means_by_job = movielens_train.pivot_table('rating', index = 'movie_id', columns = 'occupation')\n",
    "        \n",
    "    def estimate( self, user_id, movie_id ):\n",
    "        # Mean ratings by other users of the same occupation\n",
    "        if( movie_id not in self.means_by_job.index ):\n",
    "            return( 3.0 )\n",
    "        \n",
    "        # get the users zip\n",
    "        user_job = users.loc[user_id, 'occupation']\n",
    "        \n",
    "        # maintaining the additional test required for zip analysis\n",
    "        if( user_job not in self.means_by_job.columns ):\n",
    "            return( 3.0 )\n",
    "        \n",
    "        if( ~np.isnan(self.means_by_job.loc[movie_id, user_job]) ):\n",
    "            return( self.means_by_job.loc[movie_id, user_job] )\n",
    "        else:\n",
    "            return( self.means_by_job.loc[movie_id].mean())\n",
    "\n",
    "reco = CollabJobReco()\n",
    "reco.learn()\n",
    "print('RMSE for CollabJobReco: %s.' % evaluate(reco.estimate))"
   ]
  },
  {
   "cell_type": "markdown",
   "metadata": {
    "collapsed": true
   },
   "source": [
    "The occupation approached performs better than the age-based groups, but not as well as zip codes, unfiltered means, or even the base case (fixed prediction). Still, none of these single predictors produces a noticably improved prediction performance. I am already interested in looking into ways to combine them during the second round of the mini-challenge.\n",
    "\n",
    "## Content Based Approach: Movie Genre"
   ]
  },
  {
   "cell_type": "code",
   "execution_count": 22,
   "metadata": {},
   "outputs": [
    {
     "name": "stdout",
     "output_type": "stream",
     "text": [
      "RMSE for ContentGenreReco: 1.25351668567.\n"
     ]
    }
   ],
   "source": [
    "class ContentGenreReco:\n",
    "    # Collaborative filtering using an implicit sim(u,u'), based on zip code\n",
    "    \n",
    "    def learn( self ):\n",
    "        # prepare data structures\n",
    "        # where collaborative pivoted on movie id's, content will pivot on user id's\n",
    "        self.means_by_user = movielens_train.pivot_table('rating', index = 'user_id', columns = 'genres')\n",
    "        \n",
    "    def estimate( self, user_id, movie_id ):\n",
    "        # Mean ratings by this user for other genres\n",
    "        if( user_id not in self.means_by_user.index ):\n",
    "            return( 3.5 )\n",
    "        \n",
    "        # get the movie's genre\n",
    "        movie_genre = movies.loc[movie_id, 'genres']\n",
    "        \n",
    "        # maintaining the additional test required for zip analysis\n",
    "        if( movie_genre not in self.means_by_user.columns ):\n",
    "            return( 3.5 )\n",
    "        \n",
    "        if( ~np.isnan(self.means_by_user.loc[user_id, movie_genre]) ):\n",
    "            return( self.means_by_user.loc[user_id, movie_genre] )\n",
    "        else:\n",
    "            return( self.means_by_user.loc[user_id].mean())\n",
    "\n",
    "reco = ContentGenreReco()\n",
    "reco.learn()\n",
    "print('RMSE for ContentGenreReco: %s.' % evaluate(reco.estimate))"
   ]
  },
  {
   "cell_type": "markdown",
   "metadata": {
    "collapsed": true
   },
   "source": [
    "Results from all the types:\n",
    "\n",
    "| Filter Type | Filter Content | RMSE |\n",
    "|:-----|:-----|-----|\n",
    "| Base | Fixed at 3.5 | 1.091 |\n",
    "| Collaborative | Unfiltered Mean | 1.123 |\n",
    "| Collaborative | Age | 1.210 |\n",
    "| Collaborative | Zip Code | 1.126 |\n",
    "| Collaborative | Occupation | 1.203 |\n",
    "| Content | Genre | 1.253 |\n",
    "\n",
    "The genre approach, on its own, is not as good as any of the collaborative approaches we tried above. That said, the the genre approach is still very poorly refined. It requires that the movie have all of the same genres. A more refined version will break about genre labels and search based on individual genres and flexible groups rather than fixed groups.\n",
    "\n",
    "The unfiltered means approach is still the best performing method that we've seen, even if it doesn't outperform the base case. This is defimitely a disappointing result; we're best off just expecting the rating to be 3.5, regardless of any one characteristic. What we need to do is to build hybrid approaches, including multiple filter contents and both collaborative- and content-based filtering to get better performance."
   ]
  },
  {
   "cell_type": "markdown",
   "metadata": {},
   "source": [
    "# Mini-Challenge: second round\n",
    "Implement an `estimate` function of your own using other custom similarity notions, eg.:\n",
    "\n",
    "- euclidean\n",
    "- cosine\n",
    "\n",
    "I will start doing this by recreating the Pearson $\\rho$-based method that performed so well in the PyCon presentation, adjusted for Python 3. This method uses a good improvement: weighted averages for distance. We could not use this before as no distance was measured, only a consideration for 'same' v. 'not same'."
   ]
  },
  {
   "cell_type": "code",
   "execution_count": 23,
   "metadata": {},
   "outputs": [],
   "source": [
    "# first, I want to bring in the functions for computing pearson correlation, euclidean distance, and cosine similarity\n",
    "\n",
    "def pearson(s1, s2):\n",
    "    \"\"\"Take two pd.Series objects and return a pearson correlation.\"\"\"\n",
    "    s1_c = s1 - s1.mean()\n",
    "    s2_c = s2 - s2.mean()\n",
    "    if ((np.sum(s1_c ** 2) == 0.0) | (np.sum(s2_c ** 2) == 0.0)):\n",
    "        return(0.0)\n",
    "    else:\n",
    "        return(np.sum(s1_c * s2_c) / np.sqrt(np.sum(s1_c ** 2) * np.sum(s2_c ** 2)))\n",
    "\n",
    "def euclidean(s1, s2):\n",
    "    \"\"\"Take two pd.Series objects and return their euclidean 'similarity'.\"\"\"\n",
    "    diff = s1 - s2\n",
    "    return(1 / (1 + np.sqrt(np.sum(diff ** 2))))\n",
    "\n",
    "def cosine(s1, s2):\n",
    "    \"\"\"Take two pd.Series objects and return their cosine similarity.\"\"\"\n",
    "    return(np.sum(s1 * s2) / np.sqrt(np.sum(s1 ** 2) * np.sum(s2 ** 2)))"
   ]
  },
  {
   "cell_type": "markdown",
   "metadata": {},
   "source": [
    "## Run the pearson correlation based approach"
   ]
  },
  {
   "cell_type": "code",
   "execution_count": 24,
   "metadata": {},
   "outputs": [
    {
     "name": "stdout",
     "output_type": "stream",
     "text": [
      "RMSE for CollabPearsonReco: 1.126\n"
     ]
    }
   ],
   "source": [
    "class CollabPearsonReco:\n",
    "    \"\"\" Collaborative filtering using a custom sim(u,u'). \"\"\"\n",
    "\n",
    "    def learn(self):\n",
    "        \"\"\" Prepare datastructures for estimation. \"\"\"\n",
    "        \n",
    "        self.all_user_profiles = movielens_train.pivot_table('rating', index='movie_id', columns='user_id')\n",
    "\n",
    "    def estimate(self, user_id, movie_id):\n",
    "        \"\"\" Ratings weighted by correlation similarity. \"\"\"\n",
    "        \n",
    "        user_condition = movielens_train.user_id != user_id\n",
    "        movie_condition = movielens_train.movie_id == movie_id\n",
    "        ratings_by_others = movielens_train[user_condition & movie_condition]\n",
    "        if(ratings_by_others.empty): \n",
    "            return(3.0)\n",
    "        \n",
    "        ratings_by_others.set_index('user_id', inplace=True)\n",
    "        their_ids = ratings_by_others.index\n",
    "        their_ratings = ratings_by_others.rating\n",
    "        their_profiles = self.all_user_profiles[their_ids]\n",
    "        user_profile = self.all_user_profiles[user_id]\n",
    "        sims = their_profiles.apply(lambda profile: pearson(profile, user_profile), axis=0)\n",
    "        ratings_sims = pd.DataFrame({'sim': sims, 'rating': their_ratings})\n",
    "        ratings_sims = ratings_sims[ratings_sims.sim > 0]\n",
    "        if(ratings_sims.empty):\n",
    "            return(their_ratings.mean())\n",
    "        else:\n",
    "            return(np.average(ratings_sims.rating, weights=ratings_sims.sim))\n",
    "        \n",
    "reco = CollabPearsonReco()\n",
    "reco.learn()\n",
    "print('RMSE for CollabPearsonReco: %.3f' % evaluate(reco.estimate))"
   ]
  },
  {
   "cell_type": "markdown",
   "metadata": {},
   "source": [
    "## Euclidean Distance-Based"
   ]
  },
  {
   "cell_type": "code",
   "execution_count": 25,
   "metadata": {},
   "outputs": [
    {
     "name": "stdout",
     "output_type": "stream",
     "text": [
      "RMSE for CollabEuclidReco: 1.123\n"
     ]
    }
   ],
   "source": [
    "class CollabEuclidReco:\n",
    "    \"\"\" Collaborative filtering using a custom sim(u,u'). \"\"\"\n",
    "\n",
    "    def learn(self):\n",
    "        \"\"\" Prepare datastructures for estimation. \"\"\"\n",
    "        \n",
    "        self.all_user_profiles = movielens_train.pivot_table('rating', index='movie_id', columns='user_id')\n",
    "\n",
    "    def estimate(self, user_id, movie_id):\n",
    "        \"\"\" Ratings weighted by correlation similarity. \"\"\"\n",
    "        \n",
    "        user_condition = movielens_train.user_id != user_id\n",
    "        movie_condition = movielens_train.movie_id == movie_id\n",
    "        ratings_by_others = movielens_train[user_condition & movie_condition]\n",
    "        if(ratings_by_others.empty): \n",
    "            return(3.0)\n",
    "        \n",
    "        ratings_by_others.set_index('user_id', inplace=True)\n",
    "        their_ids = ratings_by_others.index\n",
    "        their_ratings = ratings_by_others.rating\n",
    "        their_profiles = self.all_user_profiles[their_ids]\n",
    "        user_profile = self.all_user_profiles[user_id]\n",
    "        sims = their_profiles.apply(lambda profile: euclidean(profile, user_profile), axis=0)\n",
    "        ratings_sims = pd.DataFrame({'sim': sims, 'rating': their_ratings})\n",
    "        ratings_sims = ratings_sims[ratings_sims.sim > 0]\n",
    "        if(ratings_sims.empty):\n",
    "            return(their_ratings.mean())\n",
    "        else:\n",
    "            return(np.average(ratings_sims.rating, weights=ratings_sims.sim))\n",
    "        \n",
    "reco = CollabEuclidReco()\n",
    "reco.learn()\n",
    "print('RMSE for CollabEuclidReco: %.3f' % evaluate(reco.estimate))"
   ]
  },
  {
   "cell_type": "markdown",
   "metadata": {},
   "source": [
    "## Cosine Similarity"
   ]
  },
  {
   "cell_type": "code",
   "execution_count": 26,
   "metadata": {},
   "outputs": [
    {
     "name": "stdout",
     "output_type": "stream",
     "text": [
      "RMSE for CollabCosineReco: 1.134\n"
     ]
    }
   ],
   "source": [
    "class CollabCosineReco:\n",
    "    \"\"\" Collaborative filtering using a custom sim(u,u'). \"\"\"\n",
    "\n",
    "    def learn(self):\n",
    "        \"\"\" Prepare datastructures for estimation. \"\"\"\n",
    "        \n",
    "        self.all_user_profiles = movielens_train.pivot_table('rating', index='movie_id', columns='user_id')\n",
    "\n",
    "    def estimate(self, user_id, movie_id):\n",
    "        \"\"\" Ratings weighted by correlation similarity. \"\"\"\n",
    "        \n",
    "        user_condition = movielens_train.user_id != user_id\n",
    "        movie_condition = movielens_train.movie_id == movie_id\n",
    "        ratings_by_others = movielens_train[user_condition & movie_condition]\n",
    "        if(ratings_by_others.empty): \n",
    "            return(3.0)\n",
    "        \n",
    "        ratings_by_others.set_index('user_id', inplace=True)\n",
    "        their_ids = ratings_by_others.index\n",
    "        their_ratings = ratings_by_others.rating\n",
    "        their_profiles = self.all_user_profiles[their_ids]\n",
    "        user_profile = self.all_user_profiles[user_id]\n",
    "        sims = their_profiles.apply(lambda profile: cosine(profile, user_profile), axis=0)\n",
    "        ratings_sims = pd.DataFrame({'sim': sims, 'rating': their_ratings})\n",
    "        ratings_sims = ratings_sims[ratings_sims.sim > 0]\n",
    "        if(ratings_sims.empty):\n",
    "            return(their_ratings.mean())\n",
    "        else:\n",
    "            return(np.average(ratings_sims.rating, weights=ratings_sims.sim))\n",
    "        \n",
    "reco = CollabCosineReco()\n",
    "reco.learn()\n",
    "print('RMSE for CollabCosineReco: %.3f' % evaluate(reco.estimate))"
   ]
  },
  {
   "cell_type": "markdown",
   "metadata": {},
   "source": [
    "Results from all the types:\n",
    "\n",
    "| Filter Type | Filter Content | RMSE |\n",
    "|:-----|:-----|-----|\n",
    "| Base | Fixed at 3.5 | 1.091 |\n",
    "| Collaborative | Unfiltered Mean | 1.123 |\n",
    "| Collaborative | Age | 1.210 |\n",
    "| Collaborative | Zip Code | 1.126 |\n",
    "| Collaborative | Occupation | 1.203 |\n",
    "| Content | Genre | 1.253 |\n",
    "| Collaborative | Pearson Correlation | 1.126 |\n",
    "| Collaborative | Euclidean Distance | 1.123 |\n",
    "| Collaborative | Cosine Similarity | 1.134 |\n",
    "\n",
    "These performance scores are still quite disappointing. Nothing has done better than just assuming that a user's rating will be 3.5. What is needed is a hybrid approach.\n",
    "\n",
    "## Looking at a Hybrid Approach\n",
    "\n",
    "The PyCon conference showed a method of hybrid estimation, which I have recreated here. It works by weighting two different values. Training ratings are drawn from viewers who saw the same movie and those who are of similiar age and the same gender and occupation. The approach draws 60% of the predicted rating from the average of the ratings from all other viewers of the same movie. The remaining 40% is drawn from the ratings of all movies for viewers of the same gender and occupation, who are also within 10 users of age of the user whose rating is being predicted. If, at any point, there are no matching users for comparison, then the algorithm replaces the average of the users ratings with the overall mean rating for all movies."
   ]
  },
  {
   "cell_type": "code",
   "execution_count": 27,
   "metadata": {},
   "outputs": [
    {
     "name": "stdout",
     "output_type": "stream",
     "text": [
      "RMSE for hybrid_estimate: 1.05625258746.\n",
      "Percent improvement: 3.185 percent.\n"
     ]
    }
   ],
   "source": [
    "from functools import reduce\n",
    "\n",
    "overall_mean = movielens_train['rating'].mean()\n",
    "\n",
    "def hybrid_estimate(user_id, movie_id):\n",
    "    measures = [\n",
    "        (0.6, movielens_train[movielens_train.movie_id == movie_id]),\n",
    "        (0.4, movielens_train[reduce(np.logical_and,\n",
    "                                     [movielens_train.gender == users.loc[user_id].gender,\n",
    "                                      movielens_train.occupation == users.loc[user_id].occupation,\n",
    "                                      abs(movielens_train.age - users.loc[user_id].age) < 10 ])])\n",
    "    ]\n",
    "        \n",
    "    return( sum((weight * ((measure.empty and overall_mean) or measure['rating'].mean())\n",
    "                for weight, measure in measures)) )\n",
    "\n",
    "RMSE = evaluate(hybrid_estimate)\n",
    "print('RMSE for hybrid_estimate: %s.' % RMSE )\n",
    "print('Percent improvement: %.3f percent.' % (100 * ( (1.091 - RMSE) / 1.091) ) )"
   ]
  },
  {
   "cell_type": "markdown",
   "metadata": {},
   "source": [
    "The hybrid approach is, indeed, the most effective method. It alone has beat simply assuming that the rating will be 3.5 for accuracy. That said, the improvement is still pretty marginal, at only 3.185%. In the future, I would like to return to this algorithm and attempt to improve it further, but adjusting rates, separating rates out further, bringing collaborative and content approaches together and exploring weighting predictions by their performance."
   ]
  }
 ],
 "metadata": {
  "kernelspec": {
   "display_name": "Python 3",
   "language": "python",
   "name": "python3"
  },
  "language_info": {
   "codemirror_mode": {
    "name": "ipython",
    "version": 3
   },
   "file_extension": ".py",
   "mimetype": "text/x-python",
   "name": "python",
   "nbconvert_exporter": "python",
   "pygments_lexer": "ipython3",
   "version": "3.6.1"
  }
 },
 "nbformat": 4,
 "nbformat_minor": 1
}
