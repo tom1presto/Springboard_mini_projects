{
 "cells": [
  {
   "cell_type": "markdown",
   "metadata": {},
   "source": [
    "# What is the True Normal Human Body Temperature? \n",
    "\n",
    "#### Background\n",
    "\n",
    "The mean normal body temperature was held to be 37$^{\\circ}$C or 98.6$^{\\circ}$F for more than 120 years since it was first conceptualized and reported by Carl Wunderlich in a famous 1868 book. But, is this value statistically correct?"
   ]
  },
  {
   "cell_type": "markdown",
   "metadata": {},
   "source": [
    "### Exercises\n",
    "In this exercise, you will analyze a dataset of human body temperatures and employ the concepts of hypothesis testing, confidence intervals, and statistical significance.\n",
    "\n",
    "Answer the following questions in this notebook below and submit to your Github account.\n",
    "\n",
    "1. Is the distribution of body temperatures normal?\n",
    "    * Although this is not a requirement for CLT to hold (read CLT carefully), it gives us some peace of mind that the population may also be normally distributed if we assume that this sample is representative of the population.\n",
    "2. Is the sample size large? Are the observations independent?\n",
    "    * Remember that this is a condition for the CLT, and hence the statistical tests we are using, to apply.\n",
    "3. Is the true population mean really 98.6 degrees F?\n",
    "    * Would you use a one-sample or two-sample test? Why?\n",
    "    * In this situation, is it appropriate to use the  tt  or  zz  statistic?\n",
    "    * Now try using the other test. How is the result be different? Why?\n",
    "4. At what temperature should we consider someone's temperature to be \"abnormal\"?\n",
    "    * Start by computing the margin of error and confidence interval.\n",
    "5. Is there a significant difference between males and females in normal temperature?\n",
    "    * What test did you use and why?\n",
    "    * Write a story with your conclusion in the context of the original problem.\n",
    "\n",
    "You can include written notes in notebook cells using Markdown: - In the control panel at the top, choose Cell > Cell Type > Markdown - Markdown syntax: http://nestacms.com/docs/creating-content/markdown-cheat-sheet #### Resources + Information and data sources: http://www.amstat.org/publications/jse/datasets/normtemp.txt, http://www.amstat.org/publications/jse/jse_data_archive.htm + Markdown syntax: http://nestacms.com/docs/creating-content/markdown-cheat-sheet **"
   ]
  },
  {
   "cell_type": "code",
   "execution_count": 1,
   "metadata": {},
   "outputs": [
    {
     "data": {
      "text/html": [
       "<table>\n",
       "<thead><tr><th scope=col>temperature</th><th scope=col>gender</th><th scope=col>heart_rate</th></tr></thead>\n",
       "<tbody>\n",
       "\t<tr><td>99.3</td><td>F   </td><td>68  </td></tr>\n",
       "\t<tr><td>98.4</td><td>F   </td><td>81  </td></tr>\n",
       "\t<tr><td>97.8</td><td>M   </td><td>73  </td></tr>\n",
       "\t<tr><td>99.2</td><td>F   </td><td>66  </td></tr>\n",
       "\t<tr><td>98.0</td><td>F   </td><td>73  </td></tr>\n",
       "\t<tr><td>99.2</td><td>M   </td><td>83  </td></tr>\n",
       "</tbody>\n",
       "</table>\n"
      ],
      "text/latex": [
       "\\begin{tabular}{r|lll}\n",
       " temperature & gender & heart\\_rate\\\\\n",
       "\\hline\n",
       "\t 99.3 & F    & 68  \\\\\n",
       "\t 98.4 & F    & 81  \\\\\n",
       "\t 97.8 & M    & 73  \\\\\n",
       "\t 99.2 & F    & 66  \\\\\n",
       "\t 98.0 & F    & 73  \\\\\n",
       "\t 99.2 & M    & 83  \\\\\n",
       "\\end{tabular}\n"
      ],
      "text/markdown": [
       "\n",
       "temperature | gender | heart_rate | \n",
       "|---|---|---|---|---|---|\n",
       "| 99.3 | F    | 68   | \n",
       "| 98.4 | F    | 81   | \n",
       "| 97.8 | M    | 73   | \n",
       "| 99.2 | F    | 66   | \n",
       "| 98.0 | F    | 73   | \n",
       "| 99.2 | M    | 83   | \n",
       "\n",
       "\n"
      ],
      "text/plain": [
       "  temperature gender heart_rate\n",
       "1 99.3        F      68        \n",
       "2 98.4        F      81        \n",
       "3 97.8        M      73        \n",
       "4 99.2        F      66        \n",
       "5 98.0        F      73        \n",
       "6 99.2        M      83        "
      ]
     },
     "metadata": {},
     "output_type": "display_data"
    }
   ],
   "source": [
    "# import pandas as pd\n",
    "# df = pd.read_csv('data/human_body_temperature.csv')\n",
    "\n",
    "# convert to R\n",
    "# As a quick note, unlike in Python, \".\" is treated as text and so can be included in variable and function names.\n",
    "# In R, the role that \".\" plays, to point to a portion of an object, like a variable in a pandas dataframe is\n",
    "#  played by \"$\". Functionally, this sytax is the same with only the exact character changed.\n",
    "\n",
    "# manage strings as strings and not as factors, which is R's default\n",
    "options(stringsAsFactors = F)\n",
    "# load ggplot2 for graphics; there will not be enough data manipulation to load dplyr\n",
    "library(ggplot2)\n",
    "\n",
    "# read in data and view\n",
    "df <- read.csv('data/human_body_temperature.csv')\n",
    "head(df)"
   ]
  },
  {
   "cell_type": "markdown",
   "metadata": {},
   "source": [
    "### Q's 1 and 2: Is the data normally distributed, and is the Sample Size large enough to apply the CLT\n",
    "\n",
    "Central limit theorem asserts that, given a large enough sample size, you can assume that you have a normal distribution. Though a great deal of work in network theory and complex systems has shown the prevalence of power-law distributions, the CLT can still be applied in many spaces, particularly those where distributions are not bounded, as is the case with human body temperature. We can likely, then, assume that CLT is applicable to this data. Nevertheless, we should begin by seen both how the data are structured, printed above, and how many observations there are."
   ]
  },
  {
   "cell_type": "code",
   "execution_count": 2,
   "metadata": {},
   "outputs": [
    {
     "data": {
      "text/html": [
       "'This data has 130 observations.'"
      ],
      "text/latex": [
       "'This data has 130 observations.'"
      ],
      "text/markdown": [
       "'This data has 130 observations.'"
      ],
      "text/plain": [
       "[1] \"This data has 130 observations.\""
      ]
     },
     "metadata": {},
     "output_type": "display_data"
    }
   ],
   "source": [
    "paste( \"This data has\",\n",
    "      length(na.omit(df$temperature)),\n",
    "      \"observations.\")"
   ]
  },
  {
   "cell_type": "markdown",
   "metadata": {},
   "source": [
    "At 30 observations a $t$ distribution is considered sufficiently close to a $z$ distribution to be considered effectively the same. The CLT uses this same requirement. With 130 observations, there is sufficient data to apply the CLT.\n",
    "\n",
    "Nevertheless, we will proceed to look at histograms for all observations as well as histograms for male and female temperatures."
   ]
  },
  {
   "cell_type": "code",
   "execution_count": 3,
   "metadata": {},
   "outputs": [
    {
     "data": {},
     "metadata": {},
     "output_type": "display_data"
    },
    {
     "data": {
      "image/png": "[encoded data removed]",
      "text/plain": [
       "plot without title"
      ]
     },
     "metadata": {},
     "output_type": "display_data"
    }
   ],
   "source": [
    "qplot(temperature,\n",
    "      data = df,\n",
    "      binwidth = 0.35,\n",
    "      main = \"Histogram for Body Temperature\",\n",
    "      xlab = \"Temperature\",\n",
    "      ylab = \"Frequency\",\n",
    "      fill = gender\n",
    "      ) + theme_bw()"
   ]
  },
  {
   "cell_type": "code",
   "execution_count": 4,
   "metadata": {},
   "outputs": [
    {
     "data": {},
     "metadata": {},
     "output_type": "display_data"
    },
    {
     "data": {
      "image/png": "[encoded data removed]",
      "text/plain": [
       "plot without title"
      ]
     },
     "metadata": {},
     "output_type": "display_data"
    }
   ],
   "source": [
    "qplot(temperature,\n",
    "      data = df,\n",
    "      color = gender,\n",
    "      fill = gender,\n",
    "      binwidth = 0.4,\n",
    "      main = \"Histograms for Body Temperature by Gender\",\n",
    "      xlab = \"Temperature\",\n",
    "      ylab = \"Frequency\"\n",
    "      ) + facet_wrap( ~gender ) + theme_bw()\n"
   ]
  },
  {
   "cell_type": "markdown",
   "metadata": {},
   "source": [
    "Though the none of the distributions appear to be perfectly shaped normal distribution curves, there is a sufficiently close match to conclude that the data is normally distributed, especially when it is considered that 130 observations is a low number of observations, even if sufficient to invoke the CLT. It is likely that any skew or clunkiness in the shape of the distrubtion is the result of the low number of observations."
   ]
  },
  {
   "cell_type": "markdown",
   "metadata": {},
   "source": [
    "### Q3: Is the true population mean 98.6 deg. F?\n",
    "\n",
    "The question is asking if the measured sample produces a mean temperature close enough to 98.6 degrees F that any difference is statistical noise. With 130 observations, it is appropriate to use a $t$ distrubtion, which should always be used for small-sample statistics, is approximately equal to a $z$ distribution when there are 30 observations:\n",
    "\n",
    "as $n$ -> inf, lim($t$) = $z$\n",
    "\n",
    "Testing whether or not the observed mean is far enough from 98.6 uses a one-sample t-test. One sample is used because we test a  value for difference against a single distribution, rather than testing two different distributions. Since it is unknown if the observed sample will be higher or lower than 98.6, a two-sided test is used."
   ]
  },
  {
   "cell_type": "code",
   "execution_count": 5,
   "metadata": {},
   "outputs": [
    {
     "data": {
      "text/html": [
       "'The mean temperature for this data is 98.25 and a standard deviation of 0.73.'"
      ],
      "text/latex": [
       "'The mean temperature for this data is 98.25 and a standard deviation of 0.73.'"
      ],
      "text/markdown": [
       "'The mean temperature for this data is 98.25 and a standard deviation of 0.73.'"
      ],
      "text/plain": [
       "[1] \"The mean temperature for this data is 98.25 and a standard deviation of 0.73.\""
      ]
     },
     "metadata": {},
     "output_type": "display_data"
    }
   ],
   "source": [
    "# Get and report summary statistics\n",
    "\n",
    "xbar <- mean(df$temperature)\n",
    "std.dev <- sd(df$temperature)\n",
    "n <- length(df$temperature)\n",
    "mu <- 98.6\n",
    "\n",
    "paste(\"The mean temperature for this data is \",\n",
    "      round(xbar,\n",
    "            digits = 2),\n",
    "      \" and a standard deviation of \",\n",
    "      round(std.dev,\n",
    "           digits = 2),\n",
    "      \".\",\n",
    "      sep = \"\")"
   ]
  },
  {
   "cell_type": "code",
   "execution_count": 6,
   "metadata": {},
   "outputs": [
    {
     "data": {
      "text/html": [
       "<ol class=list-inline>\n",
       "\t<li>-1.96</li>\n",
       "\t<li>1.96</li>\n",
       "</ol>\n"
      ],
      "text/latex": [
       "\\begin{enumerate*}\n",
       "\\item -1.96\n",
       "\\item 1.96\n",
       "\\end{enumerate*}\n"
      ],
      "text/markdown": [
       "1. -1.96\n",
       "2. 1.96\n",
       "\n",
       "\n"
      ],
      "text/plain": [
       "[1] -1.96  1.96"
      ]
     },
     "metadata": {},
     "output_type": "display_data"
    }
   ],
   "source": [
    "# get critical z values\n",
    "\n",
    "alpha <- 0.05\n",
    "z.crit <- qnorm( 1 - alpha / 2 )\n",
    "z.crit.bounds <- c(-z.crit, z.crit)\n",
    "round(z.crit.bounds,\n",
    "      digits = 2)"
   ]
  },
  {
   "cell_type": "code",
   "execution_count": 7,
   "metadata": {},
   "outputs": [
    {
     "data": {
      "text/html": [
       "'The z statistic is: -5.455, with a p-value of 4.90215701410733e-08.'"
      ],
      "text/latex": [
       "'The z statistic is: -5.455, with a p-value of 4.90215701410733e-08.'"
      ],
      "text/markdown": [
       "'The z statistic is: -5.455, with a p-value of 4.90215701410733e-08.'"
      ],
      "text/plain": [
       "[1] \"The z statistic is: -5.455, with a p-value of 4.90215701410733e-08.\""
      ]
     },
     "metadata": {},
     "output_type": "display_data"
    }
   ],
   "source": [
    "# Get a z statistic\n",
    "\n",
    "# Using an standard alpha level of 0.05, the z value must be greater than 1.96 or less than -1.96.\n",
    "# a p-value is also calculated for the null hypthoses test that the observed mean is equal to 98.6.\n",
    "z <- ( xbar - mu ) / ( std.dev / sqrt( n ) )\n",
    "p.val <- 2 * pnorm(z)\n",
    "paste( \"The z statistic is: \",\n",
    "       round(z, digits = 3),\n",
    "       \", with a p-value of \",\n",
    "       p.val,\n",
    "       \".\",\n",
    "       sep = \"\")"
   ]
  },
  {
   "cell_type": "code",
   "execution_count": 8,
   "metadata": {},
   "outputs": [
    {
     "data": {
      "text/html": [
       "<ol class=list-inline>\n",
       "\t<li>-1.98</li>\n",
       "\t<li>1.98</li>\n",
       "</ol>\n"
      ],
      "text/latex": [
       "\\begin{enumerate*}\n",
       "\\item -1.98\n",
       "\\item 1.98\n",
       "\\end{enumerate*}\n"
      ],
      "text/markdown": [
       "1. -1.98\n",
       "2. 1.98\n",
       "\n",
       "\n"
      ],
      "text/plain": [
       "[1] -1.98  1.98"
      ]
     },
     "metadata": {},
     "output_type": "display_data"
    }
   ],
   "source": [
    "# Confirmation by computing with a T-statistic with 130 observations and n-1 degrees of freedom.\n",
    "\n",
    "t.crit.bounds <- qt(c(0.025,0.975),\n",
    "                    df = n - 1 )\n",
    "round(t.crit.bounds,\n",
    "      digits = 2)"
   ]
  },
  {
   "cell_type": "markdown",
   "metadata": {},
   "source": [
    "With a p-value far less than 0.05, we can conclude that the true body temperature is not 98.6 degrees F. This is confirmed in both $z$ and $t$ tests, with a calculated test statistic (-5.455) well outside the critical bounds of both distributions. The observed result indicates that the temperature is lower than 98.6."
   ]
  },
  {
   "cell_type": "markdown",
   "metadata": {},
   "source": [
    "### Q4: What temperatures should be considered abnormal\n",
    "\n",
    "An abnormal value would be any temperature value outside a chosen confidence interval. Normally, this is taken as a 95% confidence interval. It is worth noting, though, that some people have abnormal immune systems, where, either due to illness or due to treatment for autoimmune conditions, a much tighter confidence interval should be chosen; it unusual for someone on immuno-suppressant therapy to run any kind of temperature."
   ]
  },
  {
   "cell_type": "code",
   "execution_count": 9,
   "metadata": {},
   "outputs": [
    {
     "data": {
      "text/html": [
       "'Any temperature above 98.38 degrees F or below 98.12 degrees F should be considered abnormal and therefore a sign of illness.'"
      ],
      "text/latex": [
       "'Any temperature above 98.38 degrees F or below 98.12 degrees F should be considered abnormal and therefore a sign of illness.'"
      ],
      "text/markdown": [
       "'Any temperature above 98.38 degrees F or below 98.12 degrees F should be considered abnormal and therefore a sign of illness.'"
      ],
      "text/plain": [
       "[1] \"Any temperature above 98.38 degrees F or below 98.12 degrees F should be considered abnormal and therefore a sign of illness.\""
      ]
     },
     "metadata": {},
     "output_type": "display_data"
    }
   ],
   "source": [
    "# xbar, std.dev, n, and critical z values are already calculated above.\n",
    "# The task here is to translate critical values into critical temperature readings.\n",
    "\n",
    "sem <- std.dev #/ sqrt( n )                 # further review suggests that it's better to us the stDev rather than the SE\n",
    "crit.val <- xbar + sem * z.crit.bounds      # item-wise calculations of vectors is used to streamline calculations\n",
    "\n",
    "# items in the vector are called by reference after item-wise calculation\n",
    "paste(\"Any temperature above\",\n",
    "      round(crit.val[2], digits = 2),\n",
    "      \"degrees F or below\",\n",
    "      round(crit.val[1], digits = 2),\n",
    "      \"degrees F should be considered abnormal and therefore a sign of illness.\")"
   ]
  },
  {
   "cell_type": "markdown",
   "metadata": {},
   "source": [
    "### Q5: Is there a statisically significant difference between male and female body temperature?\n",
    "\n",
    "The standard method for testing the difference between the mean values of the distribution for two related categories is an Analysis of Variance (ANOVA). This tests if the differences in means is great enough to consider the two distributions as different. It reports a p-value for the test of difference between the mean values for the two (or more) groups though it does not test what that difference is. This must be considered separately through comparison of the means.\n",
    "\n",
    "I will compare means for a simple one-way ANOVA, which does not include covariates, and consider the differences in means using both the absolute difference and a Cohen's $d$. After that, I will consider whether or not heart rate should be included as a covariate and if any difference remains after controlling for heart rate."
   ]
  },
  {
   "cell_type": "code",
   "execution_count": 10,
   "metadata": {},
   "outputs": [
    {
     "data": {
      "text/html": [
       "'Average temperature for males is: 98.1.'"
      ],
      "text/latex": [
       "'Average temperature for males is: 98.1.'"
      ],
      "text/markdown": [
       "'Average temperature for males is: 98.1.'"
      ],
      "text/plain": [
       "[1] \"Average temperature for males is: 98.1.\""
      ]
     },
     "metadata": {},
     "output_type": "display_data"
    },
    {
     "data": {
      "text/html": [
       "'Average temperature for females is: 98.39.'"
      ],
      "text/latex": [
       "'Average temperature for females is: 98.39.'"
      ],
      "text/markdown": [
       "'Average temperature for females is: 98.39.'"
      ],
      "text/plain": [
       "[1] \"Average temperature for females is: 98.39.\""
      ]
     },
     "metadata": {},
     "output_type": "display_data"
    },
    {
     "data": {
      "text/html": [
       "'This is a distance of 0.29.'"
      ],
      "text/latex": [
       "'This is a distance of 0.29.'"
      ],
      "text/markdown": [
       "'This is a distance of 0.29.'"
      ],
      "text/plain": [
       "[1] \"This is a distance of 0.29.\""
      ]
     },
     "metadata": {},
     "output_type": "display_data"
    }
   ],
   "source": [
    "# calculate and review absolute difference in means by gender\n",
    "avg.male <- mean(df$temperature[df$gender == \"M\"])\n",
    "avg.female <- mean(df$temperature[df$gender == \"F\"])\n",
    "                 \n",
    "\n",
    "# report male average temp\n",
    "paste(\"Average temperature for males is: \",\n",
    "      round(avg.male, digits = 2),\n",
    "      \".\",\n",
    "      sep = \"\")\n",
    "\n",
    "# report female average temp\n",
    "paste(\"Average temperature for females is: \",\n",
    "      round(avg.female, digits = 2),\n",
    "      \".\",\n",
    "      sep = \"\")\n",
    "\n",
    "# report difference in averages\n",
    "paste(\"This is a distance of \",\n",
    "      round(abs( avg.male - avg.female ), digits = 2),\n",
    "      \".\",\n",
    "      sep = \"\")"
   ]
  },
  {
   "cell_type": "code",
   "execution_count": 11,
   "metadata": {},
   "outputs": [
    {
     "data": {
      "text/html": [
       "0.0239"
      ],
      "text/latex": [
       "0.0239"
      ],
      "text/markdown": [
       "0.0239"
      ],
      "text/plain": [
       "[1] 0.0239"
      ]
     },
     "metadata": {},
     "output_type": "display_data"
    }
   ],
   "source": [
    "# perform a 1-way ANOVA, used for testing differences in means without covariates, and obtain p-value for test of difference\n",
    "one.way.anova <- oneway.test(temperature ~ gender,\n",
    "                             data = df)\n",
    "\n",
    "# report the p-value for the ANOVA\n",
    "round(one.way.anova$p.value, digits = 4)"
   ]
  },
  {
   "cell_type": "code",
   "execution_count": 12,
   "metadata": {},
   "outputs": [
    {
     "data": {
      "text/html": [
       "0.400891737859881"
      ],
      "text/latex": [
       "0.400891737859881"
      ],
      "text/markdown": [
       "0.400891737859881"
      ],
      "text/plain": [
       "[1] 0.4008917"
      ]
     },
     "metadata": {},
     "output_type": "display_data"
    }
   ],
   "source": [
    "# Calculate a Cohen's d for amount of difference\n",
    "\n",
    "cohens.d <- function(group.1, group.2) {\n",
    "    # build a function to measure Cohen's D\n",
    "    # this code is based on Allen Downey's algorithm for Cohen's D\n",
    "    # I follow that same algorithm but translate it from Python to R\n",
    "    diff <- abs(mean(group.1) - mean(group.2))\n",
    "    n.1 <- length(group.1)\n",
    "    n.2 <- length(group.2)\n",
    "    var.1 <- var(group.1)\n",
    "    var.2 <- var(group.2)\n",
    "    \n",
    "    pool.var <- ( n.1 * var.1 + n.2 * var.2 ) / ( n.1 + n.2 )\n",
    "    d <- diff / sqrt( pool.var )\n",
    "    return(d)\n",
    "}\n",
    "\n",
    "fx.size <- cohens.d( df$temperature[df$gender == \"M\"],\n",
    "                     df$temperature[df$gender == \"F\"] )\n",
    "fx.size"
   ]
  },
  {
   "cell_type": "markdown",
   "metadata": {},
   "source": [
    "Given a p-value of 0.0239 and a Cohen's $d$ of 0.40, there is a statistically significant effect, but that effect is only small-ish to medium sized; females have slightly higher body temperature, on average, than males."
   ]
  },
  {
   "cell_type": "code",
   "execution_count": 13,
   "metadata": {},
   "outputs": [
    {
     "data": {
      "text/plain": [
       "\n",
       "\tPearson's product-moment correlation\n",
       "\n",
       "data:  df$temperature and df$heart_rate\n",
       "t = 2.9668, df = 128, p-value = 0.003591\n",
       "alternative hypothesis: true correlation is not equal to 0\n",
       "95 percent confidence interval:\n",
       " 0.08519113 0.40802170\n",
       "sample estimates:\n",
       "      cor \n",
       "0.2536564 \n"
      ]
     },
     "metadata": {},
     "output_type": "display_data"
    }
   ],
   "source": [
    "# Test to see if temperature is correlated with heart rate. If it is, then a test should be conducted to see if\n",
    "#   including heart rate as a factor in a factorial ANOVA changes the result just observed.\n",
    "\n",
    "corr <- cor.test( df$temperature,\n",
    "                  df$heart_rate)\n",
    "corr"
   ]
  },
  {
   "cell_type": "code",
   "execution_count": 14,
   "metadata": {},
   "outputs": [
    {
     "data": {
      "text/html": [
       "<table>\n",
       "<thead><tr><th></th><th scope=col>Df</th><th scope=col>Sum Sq</th><th scope=col>Mean Sq</th><th scope=col>F value</th><th scope=col>Pr(&gt;F)</th></tr></thead>\n",
       "<tbody>\n",
       "\t<tr><th scope=row>gender</th><td>  1        </td><td> 2.718769  </td><td>2.7187692  </td><td>5.521742   </td><td>0.020323263</td></tr>\n",
       "\t<tr><th scope=row>heart_rate</th><td>  1        </td><td> 4.094495  </td><td>4.0944948  </td><td>8.315801   </td><td>0.004617693</td></tr>\n",
       "\t<tr><th scope=row>Residuals</th><td>127        </td><td>62.531659  </td><td>0.4923753  </td><td>      NA   </td><td>         NA</td></tr>\n",
       "</tbody>\n",
       "</table>\n"
      ],
      "text/latex": [
       "\\begin{tabular}{r|lllll}\n",
       "  & Df & Sum Sq & Mean Sq & F value & Pr(>F)\\\\\n",
       "\\hline\n",
       "\tgender &   1         &  2.718769   & 2.7187692   & 5.521742    & 0.020323263\\\\\n",
       "\theart\\_rate &   1         &  4.094495   & 4.0944948   & 8.315801    & 0.004617693\\\\\n",
       "\tResiduals & 127         & 62.531659   & 0.4923753   &       NA    &          NA\\\\\n",
       "\\end{tabular}\n"
      ],
      "text/markdown": [
       "\n",
       "| <!--/--> | Df | Sum Sq | Mean Sq | F value | Pr(>F) | \n",
       "|---|---|---|\n",
       "| gender |   1         |  2.718769   | 2.7187692   | 5.521742    | 0.020323263 | \n",
       "| heart_rate |   1         |  4.094495   | 4.0944948   | 8.315801    | 0.004617693 | \n",
       "| Residuals | 127         | 62.531659   | 0.4923753   |       NA    |          NA | \n",
       "\n",
       "\n"
      ],
      "text/plain": [
       "           Df  Sum Sq    Mean Sq   F value  Pr(>F)     \n",
       "gender       1  2.718769 2.7187692 5.521742 0.020323263\n",
       "heart_rate   1  4.094495 4.0944948 8.315801 0.004617693\n",
       "Residuals  127 62.531659 0.4923753       NA          NA"
      ]
     },
     "metadata": {},
     "output_type": "display_data"
    }
   ],
   "source": [
    "# The correlation is not especially strong, but it is statistically significant.\n",
    "# Proceding with the factorial ANOVA\n",
    "\n",
    "f.anova <- anova( lm( temperature ~ gender + heart_rate,\n",
    "                      data = df ) )\n",
    "f.anova"
   ]
  },
  {
   "cell_type": "markdown",
   "metadata": {},
   "source": [
    "The results of the factorial ANOVA show a slightly richer but consistent story with the one-way ANOVA. There is a small, but statistically signficant variation in body temperature by gender. Heart rate does influence body temperature, and, when controlled for, the result is clearer, but still small.\n",
    "\n",
    "According to this data, the standard value for normal human body temperature is, in fact, high. Current data suggests that a lower temperature may now be normal, with men having a lower temperature than women, on average. Further examination suggests that heart rate influences temperature. Though this data does provide any insight as to why, it is possible that heart rates have slowed, on average, from when the measurement was originally taken. This would produce the result seen here. However, since heart rate is often linked to physical activity levels and overall fitness, it is not clear how this could have occurred, though improvements in overall health in the last 120 years may explain the change. Additionally, improvements in measuring temperatures may have reduced measurement error."
   ]
  },
  {
   "cell_type": "code",
   "execution_count": null,
   "metadata": {
    "collapsed": true
   },
   "outputs": [],
   "source": []
  }
 ],
 "metadata": {
  "kernelspec": {
   "display_name": "R",
   "language": "R",
   "name": "ir"
  },
  "language_info": {
   "codemirror_mode": "r",
   "file_extension": ".r",
   "mimetype": "text/x-r-source",
   "name": "R",
   "pygments_lexer": "r",
   "version": "3.4.1"
  }
 },
 "nbformat": 4,
 "nbformat_minor": 2
}
