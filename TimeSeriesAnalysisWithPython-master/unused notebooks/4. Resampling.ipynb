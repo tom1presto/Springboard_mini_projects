{
 "cells": [
  {
   "cell_type": "code",
   "execution_count": 1,
   "metadata": {
    "collapsed": true
   },
   "outputs": [],
   "source": [
    "import pandas as pd\n",
    "import numpy as np"
   ]
  },
  {
   "cell_type": "code",
   "execution_count": 2,
   "metadata": {
    "collapsed": true
   },
   "outputs": [],
   "source": [
    "rng = pd.date_range('1/1/2011', periods=72, freq='H')\n",
    "ts = pd.Series(np.random.randn(len(rng)), index=rng)"
   ]
  },
  {
   "cell_type": "code",
   "execution_count": 3,
   "metadata": {
    "collapsed": true
   },
   "outputs": [],
   "source": [
    "converted = ts.asfreq('45Min', method='pad')"
   ]
  },
  {
   "cell_type": "code",
   "execution_count": 5,
   "metadata": {},
   "outputs": [
    {
     "name": "stdout",
     "output_type": "stream",
     "text": [
      "(72,)\n",
      "(95,)\n"
     ]
    }
   ],
   "source": [
    "# Does asfreq change the # of rows?\n",
    "print(ts.shape)\n",
    "print(converted.shape)"
   ]
  },
  {
   "cell_type": "markdown",
   "metadata": {},
   "source": [
    "_Reply:_ Changing the frequency does change the number of rows. Since we've increased the frequency from every hour to every 45 minutes, we've added data, which is included in 23 new rows.\n",
    "\n",
    "### What do the different methods do?\n",
    "method : {‘backfill’, ‘bfill’, ‘pad’, ‘ffill’, None}\n",
    "\n",
    "_Reply:_ These methods fill in the data for those new rows. The data does not originally contain any information for what data should be included in the additional rows that we just added. More to the point, since the origional data was point-in-time data (time stamps), we have no guiding data. The back- and forward-fill methods tell pandas how fill the data in the new rows."
   ]
  },
  {
   "cell_type": "markdown",
   "metadata": {},
   "source": [
    "### Might any of these methods have pitfalls from a logical point of view?\n",
    "\n",
    "_Reply:_ As discussed in the video for this assignment, back-filling and interpolation have the risk of using future data now, creating the situation where we may be using future data to forecast the future."
   ]
  },
  {
   "cell_type": "markdown",
   "metadata": {
    "collapsed": true
   },
   "source": [
    "### What's the difference between going to a higher frequency and a lower frequency?\n",
    "\n",
    "_Reply:_ A higher frequency adds data but necessitates decisions about how to fill in the data for the new time stamps. A lower frequency will more likely to simply remove data, which does more to protect the integrity of the data."
   ]
  },
  {
   "cell_type": "code",
   "execution_count": 7,
   "metadata": {},
   "outputs": [
    {
     "data": {
      "text/plain": [
       "(48,)"
      ]
     },
     "execution_count": 7,
     "metadata": {},
     "output_type": "execute_result"
    }
   ],
   "source": [
    "converted = ts.asfreq('90Min', method = 'bfill')\n",
    "converted.shape"
   ]
  },
  {
   "cell_type": "markdown",
   "metadata": {
    "collapsed": true
   },
   "source": [
    "### What's different logically about going to a higher frequency vs a lower frequency? \n",
    "What do you want to do when switching to a lower freqeuncy that is not logical when switching to a higher frequency?\n",
    "\n",
    "_Reply:_ Logically, the two are analogous to disaggregating and aggregating, repectively. Changing to a lower frequency is essentially pooling your existing data. In this case, you can now look into interpolation between data points to fill in data or to backfill your data from future points, since that time is now part of the less frequent sampling times. This was how you pushed future data into the past when going to a higher frequency but is appropriate when going to a lower frequency."
   ]
  },
  {
   "cell_type": "code",
   "execution_count": 10,
   "metadata": {},
   "outputs": [
    {
     "data": {
      "text/plain": [
       "2011-01-01   -2.364683\n",
       "2011-01-02   -7.152354\n",
       "2011-01-03    0.403373\n",
       "Freq: D, dtype: float64"
      ]
     },
     "execution_count": 10,
     "metadata": {},
     "output_type": "execute_result"
    }
   ],
   "source": [
    "ts.resample('D').sum()"
   ]
  },
  {
   "cell_type": "markdown",
   "metadata": {
    "collapsed": true
   },
   "source": [
    "### What if you want to downsample and you don't want to ffill or bfill?\n",
    "\n",
    "_Reply:_ Leave the method as `None`, but that will leave data as `NaN`."
   ]
  },
  {
   "cell_type": "markdown",
   "metadata": {
    "collapsed": true
   },
   "source": [
    "### What is the difference between .resample() and .asfreq()?\n",
    "\n",
    "_Reply:_ Resampling is a more systematic method, while changing the frequency is, as the video indicates, for 'fast and loose changes' in frequency."
   ]
  },
  {
   "cell_type": "markdown",
   "metadata": {
    "collapsed": true
   },
   "source": [
    "### What are some special things you can do with .resample() you can't do with .asfreq()?\n",
    "\n",
    "One of the things you can do is to apply the `fillna()` method to forward- or backfill data for limited amounts of time. You can also run different data aggregation operations, such as finding means and sums of observations during different timeframes."
   ]
  },
  {
   "cell_type": "code",
   "execution_count": null,
   "metadata": {
    "collapsed": true
   },
   "outputs": [],
   "source": []
  }
 ],
 "metadata": {
  "kernelspec": {
   "display_name": "Python 3",
   "language": "python",
   "name": "python3"
  },
  "language_info": {
   "codemirror_mode": {
    "name": "ipython",
    "version": 3
   },
   "file_extension": ".py",
   "mimetype": "text/x-python",
   "name": "python",
   "nbconvert_exporter": "python",
   "pygments_lexer": "ipython3",
   "version": "3.6.1"
  },
  "widgets": {
   "state": {},
   "version": "1.1.1"
  }
 },
 "nbformat": 4,
 "nbformat_minor": 1
}
